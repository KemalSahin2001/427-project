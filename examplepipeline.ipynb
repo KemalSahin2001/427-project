{
 "cells": [
  {
   "cell_type": "code",
   "execution_count": 1,
   "id": "586fb8b0",
   "metadata": {},
   "outputs": [],
   "source": [
    "import Py_files.twcs_processor as processor\n",
    "import pandas as pd\n",
    "import os"
   ]
  },
  {
   "cell_type": "code",
   "execution_count": 2,
   "id": "f8c8374b",
   "metadata": {},
   "outputs": [],
   "source": [
    "user_input = \"My Echo keeps playing the same song over and over, how do I fix recommendations?\""
   ]
  },
  {
   "cell_type": "code",
   "execution_count": 3,
   "id": "a657cd19",
   "metadata": {},
   "outputs": [],
   "source": [
    "user_input = processor.TWCSProcessor._clean_single(user_input)\n",
    "user_input_processed = processor.TWCSProcessor._convert_to_conversation(user_input)"
   ]
  },
  {
   "cell_type": "code",
   "execution_count": 4,
   "id": "a123ad50",
   "metadata": {},
   "outputs": [],
   "source": [
    "# convert the user input to a pandas dataframe\n",
    "user_input_df = pd.DataFrame([[user_input_processed]], columns=['cleaned_conversations'])"
   ]
  },
  {
   "cell_type": "code",
   "execution_count": 6,
   "id": "33c8d228",
   "metadata": {},
   "outputs": [
    {
     "name": "stderr",
     "output_type": "stream",
     "text": [
      "2025-05-11 13:03:48,596 [INFO] LLMExtractor: Loaded data – 1 rows\n",
      "2025-05-11 13:03:48,597 [INFO] LLMExtractor: STEP 1 – Extracting issue-types, products, services\n",
      "LLM steps:   0%|          | 0/1 [00:00<?, ?it/s]2025-05-11 13:03:50,873 [INFO] httpx: HTTP Request: POST https://api.openai.com/v1/chat/completions \"HTTP/1.1 200 OK\"\n",
      "LLM steps: 100%|██████████| 1/1 [00:02<00:00,  2.28s/it]\n",
      "LLM steps:   0%|          | 0/1 [00:00<?, ?it/s]2025-05-11 13:03:52,129 [INFO] httpx: HTTP Request: POST https://api.openai.com/v1/chat/completions \"HTTP/1.1 200 OK\"\n",
      "LLM steps: 100%|██████████| 1/1 [00:01<00:00,  1.25s/it]\n",
      "LLM steps:   0%|          | 0/1 [00:00<?, ?it/s]2025-05-11 13:03:52,853 [INFO] httpx: HTTP Request: POST https://api.openai.com/v1/chat/completions \"HTTP/1.1 200 OK\"\n",
      "LLM steps: 100%|██████████| 1/1 [00:00<00:00,  1.41it/s]\n",
      "2025-05-11 13:03:52,856 [INFO] LLMExtractor: STEP 2 – Packing entities into single JSON field\n",
      "LLM steps: 100%|██████████| 1/1 [00:00<?, ?it/s]\n",
      "2025-05-11 13:03:52,858 [INFO] LLMExtractor: STEP 3 – Extracting relationships (RDF triples)\n",
      "LLM steps:   0%|          | 0/1 [00:00<?, ?it/s]2025-05-11 13:03:55,013 [INFO] httpx: HTTP Request: POST https://api.openai.com/v1/chat/completions \"HTTP/1.1 200 OK\"\n",
      "LLM steps: 100%|██████████| 1/1 [00:02<00:00,  2.15s/it]\n",
      "2025-05-11 13:03:55,015 [INFO] LLMExtractor: STEP 4 – Generating resolution completions\n",
      "LLM steps:   0%|          | 0/1 [00:00<?, ?it/s]2025-05-11 13:03:59,012 [INFO] httpx: HTTP Request: POST https://api.openai.com/v1/chat/completions \"HTTP/1.1 200 OK\"\n",
      "LLM steps: 100%|██████████| 1/1 [00:04<00:00,  4.00s/it]\n"
     ]
    }
   ],
   "source": [
    "from Py_files.llm_extractor import LLMExtractor\n",
    "pipe = LLMExtractor(dataframe = user_input_df)\n",
    "\n",
    "# only products / issue-types / services\n",
    "df1 = pipe.extract_entities()\n",
    "\n",
    "# pack them into a single JSON field\n",
    "df2 = pipe.process_entities_json()\n",
    "\n",
    "# create RDF triples\n",
    "df3 = pipe.extract_relationships()\n",
    "\n",
    "# produce suggested resolutions\n",
    "df4 = pipe.extract_resolution()"
   ]
  },
  {
   "cell_type": "code",
   "execution_count": 7,
   "id": "2f548ec4",
   "metadata": {},
   "outputs": [
    {
     "data": {
      "text/html": [
       "<div>\n",
       "<style scoped>\n",
       "    .dataframe tbody tr th:only-of-type {\n",
       "        vertical-align: middle;\n",
       "    }\n",
       "\n",
       "    .dataframe tbody tr th {\n",
       "        vertical-align: top;\n",
       "    }\n",
       "\n",
       "    .dataframe thead th {\n",
       "        text-align: right;\n",
       "    }\n",
       "</style>\n",
       "<table border=\"1\" class=\"dataframe\">\n",
       "  <thead>\n",
       "    <tr style=\"text-align: right;\">\n",
       "      <th></th>\n",
       "      <th>cleaned_conversations</th>\n",
       "      <th>Issue Type</th>\n",
       "      <th>Product</th>\n",
       "      <th>Services</th>\n",
       "      <th>entities</th>\n",
       "      <th>relationship</th>\n",
       "      <th>resolution</th>\n",
       "    </tr>\n",
       "  </thead>\n",
       "  <tbody>\n",
       "    <tr>\n",
       "      <th>0</th>\n",
       "      <td>{'conversation': [{'role': 'Customer', 'messag...</td>\n",
       "      <td>{\\n  \"Company_name\": \"company_name_here\",\\n  \"...</td>\n",
       "      <td>{\\n  \"Company_name\": \"company_name_here\",\\n  \"...</td>\n",
       "      <td>{\\n  \"Company_name\": \"company_name_here\",\\n  \"...</td>\n",
       "      <td>{\"products\": [\"Echo\"], \"services\": [], \"issue_...</td>\n",
       "      <td>[\\n    {\"subject\": \"Echo\", \"predicate\": \"hasIs...</td>\n",
       "      <td>Based on the provided conversation, the custom...</td>\n",
       "    </tr>\n",
       "  </tbody>\n",
       "</table>\n",
       "</div>"
      ],
      "text/plain": [
       "                               cleaned_conversations  \\\n",
       "0  {'conversation': [{'role': 'Customer', 'messag...   \n",
       "\n",
       "                                          Issue Type  \\\n",
       "0  {\\n  \"Company_name\": \"company_name_here\",\\n  \"...   \n",
       "\n",
       "                                             Product  \\\n",
       "0  {\\n  \"Company_name\": \"company_name_here\",\\n  \"...   \n",
       "\n",
       "                                            Services  \\\n",
       "0  {\\n  \"Company_name\": \"company_name_here\",\\n  \"...   \n",
       "\n",
       "                                            entities  \\\n",
       "0  {\"products\": [\"Echo\"], \"services\": [], \"issue_...   \n",
       "\n",
       "                                        relationship  \\\n",
       "0  [\\n    {\"subject\": \"Echo\", \"predicate\": \"hasIs...   \n",
       "\n",
       "                                          resolution  \n",
       "0  Based on the provided conversation, the custom...  "
      ]
     },
     "execution_count": 7,
     "metadata": {},
     "output_type": "execute_result"
    }
   ],
   "source": [
    "df4"
   ]
  },
  {
   "cell_type": "code",
   "execution_count": 8,
   "id": "da42bbb5",
   "metadata": {},
   "outputs": [
    {
     "name": "stderr",
     "output_type": "stream",
     "text": [
      "C:\\Users\\paris\\AppData\\Roaming\\Python\\Python311\\site-packages\\sentence_transformers\\cross_encoder\\CrossEncoder.py:11: TqdmExperimentalWarning: Using `tqdm.autonotebook.tqdm` in notebook mode. Use `tqdm.tqdm` instead to force console mode (e.g. in jupyter console)\n",
      "  from tqdm.autonotebook import tqdm, trange\n",
      "2025-05-11 13:07:40,415 [INFO] datasets: PyTorch version 2.1.1+cu121 available.\n",
      "2025-05-11 13:07:40,417 [INFO] datasets: TensorFlow version 2.12.1 available.\n",
      "2025-05-11 13:07:41,022 [INFO] sentence_transformers.SentenceTransformer: Use pytorch device_name: cuda\n",
      "2025-05-11 13:07:41,022 [INFO] sentence_transformers.SentenceTransformer: Load pretrained SentenceTransformer: all-MiniLM-L6-v2\n"
     ]
    }
   ],
   "source": [
    "from Notebooks.VectorDBStructure.db_structure import DatabaseStructure\n",
    "\n",
    "db = DatabaseStructure()\n",
    "\n",
    "cleaned_conversations = user_input_processed\n",
    "entities = df4['entities'].values[0]\n",
    "resolution = df4['resolution'].values[0]\n",
    "relationship = df4['relationship'].values[0]\n",
    "\n",
    "fixed_relationships = db.fix_relationships(relationship,resolution)"
   ]
  },
  {
   "cell_type": "code",
   "execution_count": 9,
   "id": "b3a8231c",
   "metadata": {},
   "outputs": [
    {
     "data": {
      "text/plain": [
       "'[{\"subject\": \"Echo\", \"predicate\": \"hasIssue\", \"object\": \"repeating song issue\"},{\"subject\": \"Echo\", \"predicate\": \"hasIssue\", \"object\": \"recommendation problem\"}]'"
      ]
     },
     "execution_count": 9,
     "metadata": {},
     "output_type": "execute_result"
    }
   ],
   "source": [
    "fixed_relationships"
   ]
  },
  {
   "cell_type": "code",
   "execution_count": 11,
   "id": "fe468b52",
   "metadata": {},
   "outputs": [
    {
     "data": {
      "application/vnd.jupyter.widget-view+json": {
       "model_id": "c9ddbbe96ad44b3e86f84cf2dad650ee",
       "version_major": 2,
       "version_minor": 0
      },
      "text/plain": [
       "Batches:   0%|          | 0/1 [00:00<?, ?it/s]"
      ]
     },
     "metadata": {},
     "output_type": "display_data"
    },
    {
     "data": {
      "text/plain": [
       "array([-8.84778704e-03, -3.15466188e-02, -4.00599800e-02, -5.85404271e-03,\n",
       "       -7.18602631e-03,  8.27535391e-02,  1.26421258e-01, -3.50641422e-02,\n",
       "       -1.07414030e-01, -8.96736830e-02,  2.26788186e-02, -1.73727572e-02,\n",
       "       -7.97864888e-03, -3.31071727e-02, -4.21000319e-03,  6.90747127e-02,\n",
       "       -7.24512246e-03, -1.04118086e-01,  1.42557425e-02, -8.18298981e-02,\n",
       "       -1.50931086e-02,  6.67137131e-02,  1.53139438e-02,  6.18973598e-02,\n",
       "       -1.02656178e-01,  3.54813337e-02, -6.37803823e-02,  5.82646625e-03,\n",
       "       -4.12987992e-02, -7.27533177e-02,  3.16500068e-02,  1.36102766e-01,\n",
       "        2.35700980e-02, -6.68299422e-02,  1.02966174e-01, -3.67101771e-03,\n",
       "       -1.81632247e-02, -9.40286741e-03, -5.04894853e-02, -2.25453340e-02,\n",
       "        2.98011359e-02, -2.96211224e-02, -3.45389172e-02, -9.70606506e-03,\n",
       "       -7.78992772e-02, -1.15345091e-01, -9.25213248e-02, -4.02807668e-02,\n",
       "        7.56505355e-02,  3.72028182e-04, -4.75274622e-02,  4.77132993e-03,\n",
       "        3.97746563e-02,  1.51438164e-02,  1.26837846e-02, -3.60442773e-02,\n",
       "       -4.09363359e-02,  1.45986363e-01, -4.77290787e-02, -2.34053063e-04,\n",
       "        3.70223448e-03, -6.75962567e-02, -5.93752787e-02,  8.91934149e-03,\n",
       "        1.60236098e-02,  4.20256704e-02, -1.04015619e-01,  2.51996387e-02,\n",
       "       -2.82745808e-02,  6.96262419e-02,  2.55843438e-02,  7.78484941e-02,\n",
       "       -7.97846839e-02,  6.36746585e-02,  5.27172498e-02,  5.24948724e-02,\n",
       "        1.15404865e-02, -1.10752143e-01, -1.56242084e-02,  2.57877670e-02,\n",
       "       -1.16591610e-01, -2.56748032e-02, -2.62709782e-02, -1.84568984e-03,\n",
       "        8.44653174e-02,  1.13256311e-03, -3.72509025e-02, -5.93929850e-02,\n",
       "       -4.29634526e-02, -4.90863575e-03,  9.23600886e-03, -9.59261134e-02,\n",
       "        3.11562195e-02,  8.57913983e-04,  3.95125523e-03,  8.76406878e-02,\n",
       "        1.50144612e-02, -4.88302819e-02, -3.68015021e-02,  3.79748605e-02,\n",
       "       -7.60481358e-02, -7.57695138e-02,  2.09035687e-02,  4.43563014e-02,\n",
       "       -5.96171729e-02, -7.72727206e-02,  1.89043197e-03,  9.44346189e-02,\n",
       "        2.44560838e-02, -4.77977954e-02, -3.20363790e-02,  6.59221644e-03,\n",
       "       -1.85445547e-02, -1.11145005e-02, -1.60017181e-02, -1.11865401e-01,\n",
       "        8.46815202e-03, -6.70945346e-02, -1.40163768e-03,  4.58888598e-02,\n",
       "        9.96141508e-02, -1.94082018e-02,  5.09977806e-03, -3.70296575e-02,\n",
       "       -2.06505805e-02,  4.20109890e-02,  1.07031716e-02,  3.56390051e-33,\n",
       "       -7.09973574e-02, -1.78607423e-02, -2.30337158e-02,  1.72410477e-02,\n",
       "        6.62315637e-02, -1.03111416e-02, -5.51876947e-02,  1.24154106e-01,\n",
       "       -2.83809584e-02,  1.27899135e-02,  3.31818014e-02,  4.30555120e-02,\n",
       "       -1.18964557e-02, -1.80974184e-03, -7.78515590e-03, -5.98744527e-02,\n",
       "        2.22595595e-02,  1.24357067e-01, -7.01170228e-03, -9.10460576e-02,\n",
       "        4.94678058e-02,  6.63097799e-02,  1.30454879e-02, -1.35690933e-02,\n",
       "        2.04476956e-02,  1.88819936e-03,  2.84594521e-02,  6.85580168e-03,\n",
       "        6.91288635e-02,  2.53120586e-02,  8.13222677e-02, -8.46428946e-02,\n",
       "        8.11508819e-02, -2.61658579e-02, -4.87690717e-02,  8.33247304e-02,\n",
       "        3.97556275e-02,  5.13106876e-04,  8.58348794e-03, -4.51350994e-02,\n",
       "       -5.44056520e-02, -6.21409062e-03, -6.74050897e-02,  5.01017123e-02,\n",
       "        7.74251819e-02, -3.89985517e-02, -4.29892391e-02,  5.80634288e-02,\n",
       "       -6.33302778e-02,  2.51654852e-02, -2.23631021e-02,  2.64782608e-02,\n",
       "        7.35756457e-02,  8.41633081e-02,  1.19836405e-02, -9.40740108e-02,\n",
       "        1.74978580e-02, -3.49685140e-02,  4.87672575e-02, -2.56592315e-02,\n",
       "        8.02986026e-02, -8.77967570e-03,  5.06589338e-02, -1.67798847e-01,\n",
       "        6.08016662e-02, -2.34270026e-03,  3.02014574e-02, -5.75243756e-02,\n",
       "        6.58730492e-02,  5.85371852e-02, -2.05303580e-02,  4.33729365e-02,\n",
       "        4.48742211e-02,  2.77920868e-02, -8.69885180e-03, -3.40140276e-02,\n",
       "       -7.26443343e-03, -3.74076888e-02,  7.61723565e-03, -3.82517725e-02,\n",
       "       -1.10615328e-01, -4.01856117e-02, -1.97458006e-02,  5.06161042e-02,\n",
       "       -5.46126030e-02,  3.82905789e-02,  2.63327640e-02, -3.36077660e-02,\n",
       "       -2.67199911e-02,  2.17351709e-02, -4.04546857e-02,  9.93134230e-02,\n",
       "       -1.38562650e-03,  3.67395170e-02,  2.34815553e-02, -3.35112281e-33,\n",
       "       -4.06537727e-02,  5.31629696e-02,  2.50776205e-02, -1.37632992e-02,\n",
       "        6.69127330e-02, -1.67459827e-02,  1.61541644e-02,  3.75024453e-02,\n",
       "        5.17696068e-02, -2.85921637e-02, -2.19818167e-02, -6.43580556e-02,\n",
       "       -6.83802292e-02,  1.92339662e-02,  2.55026016e-03,  4.28057909e-02,\n",
       "       -7.44977146e-02, -4.18822654e-02,  5.47212139e-02,  2.79291924e-02,\n",
       "       -1.17654890e-01,  4.71641235e-02,  3.55645865e-02,  3.81185114e-02,\n",
       "       -6.16110303e-02,  1.29257189e-02,  3.10927257e-03,  1.09753599e-02,\n",
       "        6.90196231e-02, -2.40449924e-02,  8.08186978e-02, -1.57145578e-02,\n",
       "       -2.12216116e-02,  4.85954620e-03,  2.14352310e-02,  4.16569272e-03,\n",
       "        3.20666842e-02,  4.55339439e-02,  3.02704331e-03,  3.48878130e-02,\n",
       "        9.68810618e-02, -1.69575792e-02, -4.81241159e-02,  3.08330320e-02,\n",
       "       -6.45382376e-03, -9.59576443e-02,  3.17514539e-02,  2.02392843e-02,\n",
       "        2.80368794e-02, -4.19116492e-04,  3.94243859e-02, -1.61270916e-01,\n",
       "       -4.93790805e-02, -1.18457398e-03, -3.42950970e-02,  3.21396887e-02,\n",
       "        3.41185257e-02, -3.81020363e-03, -7.28515536e-02,  2.75088698e-02,\n",
       "        5.97812198e-02,  6.98286016e-03,  1.73496921e-02, -4.24237736e-02,\n",
       "        3.62950489e-02, -6.00248612e-02,  3.76779214e-02,  4.68340795e-03,\n",
       "        1.96909215e-02, -1.32234851e-02, -5.06868511e-02,  1.72947180e-02,\n",
       "       -4.47712168e-02, -1.12733208e-02, -3.17257121e-02,  2.81017032e-02,\n",
       "       -5.47397621e-02, -3.73346061e-02, -5.81761077e-03,  4.61676009e-02,\n",
       "        2.65254499e-03,  4.50450368e-03,  3.71118374e-02,  4.69150255e-03,\n",
       "       -2.53440533e-02,  3.46299494e-04,  4.88414429e-02,  3.46412919e-02,\n",
       "       -2.58063842e-02,  4.93812887e-03, -1.91788077e-02,  3.78985293e-02,\n",
       "       -4.28906009e-02,  8.99529979e-02, -3.12653296e-02, -2.73782472e-08,\n",
       "       -3.28025706e-02, -1.00401901e-01, -5.11124264e-03,  6.76062033e-02,\n",
       "        8.78915191e-02, -5.62893413e-02,  3.86181995e-02, -5.74161932e-02,\n",
       "       -2.03126147e-02,  1.57914311e-02, -6.33725245e-03, -8.52610990e-02,\n",
       "       -3.66943367e-02,  3.86911770e-03,  2.41400190e-02, -8.15268010e-02,\n",
       "       -5.62815592e-02,  7.43464604e-02, -6.68775216e-02, -5.72034456e-02,\n",
       "       -8.99930671e-03,  9.69621912e-02,  6.10005669e-02, -8.34486112e-02,\n",
       "       -1.26911774e-02, -2.44445428e-02,  2.26161964e-02,  3.61671671e-02,\n",
       "        3.56232263e-02,  2.46634688e-02,  2.22280808e-02,  1.04831448e-02,\n",
       "        7.26372227e-02, -1.56579912e-02,  5.09347208e-02, -2.74393577e-02,\n",
       "       -3.36061195e-02, -1.42361119e-03, -7.42262304e-02, -5.70064671e-02,\n",
       "        7.15653300e-02,  6.40871897e-02,  6.25898596e-03,  1.62395500e-02,\n",
       "        4.18999679e-02, -6.89316466e-02,  7.23961517e-02, -1.63991489e-02,\n",
       "        3.30962688e-02,  1.78494155e-02, -6.26134053e-02,  2.40952801e-02,\n",
       "        6.52755350e-02,  4.77107204e-02, -1.04577215e-02,  3.20765302e-02,\n",
       "        3.82578820e-02,  1.54253999e-02,  4.21682140e-03,  1.85718350e-02,\n",
       "        1.39681716e-02,  2.34231888e-03,  5.97248450e-02,  6.13241233e-02],\n",
       "      dtype=float32)"
      ]
     },
     "execution_count": 11,
     "metadata": {},
     "output_type": "execute_result"
    }
   ],
   "source": [
    "db.text_to_embedding(entities,fixed_relationships)"
   ]
  },
  {
   "cell_type": "code",
   "execution_count": null,
   "id": "cdc8e167",
   "metadata": {},
   "outputs": [],
   "source": []
  }
 ],
 "metadata": {
  "kernelspec": {
   "display_name": "Python 3",
   "language": "python",
   "name": "python3"
  },
  "language_info": {
   "codemirror_mode": {
    "name": "ipython",
    "version": 3
   },
   "file_extension": ".py",
   "mimetype": "text/x-python",
   "name": "python",
   "nbconvert_exporter": "python",
   "pygments_lexer": "ipython3",
   "version": "3.11.5"
  }
 },
 "nbformat": 4,
 "nbformat_minor": 5
}
