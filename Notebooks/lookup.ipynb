{
 "cells": [
  {
   "cell_type": "code",
   "execution_count": 2,
   "metadata": {},
   "outputs": [
    {
     "name": "stdout",
     "output_type": "stream",
     "text": [
      "Dataset Shape: (2811774, 7)\n",
      "\n",
      "Dataset Columns:\n",
      "Index(['tweet_id', 'author_id', 'inbound', 'created_at', 'text',\n",
      "       'response_tweet_id', 'in_response_to_tweet_id'],\n",
      "      dtype='object')\n",
      "\n",
      "First 5 Rows of the Dataset:\n",
      "   tweet_id   author_id  inbound                      created_at  \\\n",
      "0         1  sprintcare    False  Tue Oct 31 22:10:47 +0000 2017   \n",
      "1         2      115712     True  Tue Oct 31 22:11:45 +0000 2017   \n",
      "2         3      115712     True  Tue Oct 31 22:08:27 +0000 2017   \n",
      "3         4  sprintcare    False  Tue Oct 31 21:54:49 +0000 2017   \n",
      "4         5      115712     True  Tue Oct 31 21:49:35 +0000 2017   \n",
      "\n",
      "                                                text response_tweet_id  \\\n",
      "0  @115712 I understand. I would like to assist y...                 2   \n",
      "1      @sprintcare and how do you propose we do that               NaN   \n",
      "2  @sprintcare I have sent several private messag...                 1   \n",
      "3  @115712 Please send us a Private Message so th...                 3   \n",
      "4                                 @sprintcare I did.                 4   \n",
      "\n",
      "   in_response_to_tweet_id  \n",
      "0                      3.0  \n",
      "1                      1.0  \n",
      "2                      4.0  \n",
      "3                      5.0  \n",
      "4                      6.0  \n"
     ]
    }
   ],
   "source": [
    "import pandas as pd\n",
    "\n",
    "# Load the dataset\n",
    "file_path = \"..\\\\Data\\\\raw\\\\twcs\\\\twcs.csv\"  # Replace with the actual file path\n",
    "data = pd.read_csv(file_path)\n",
    "\n",
    "# Display the shape of the dataset and the first few rows\n",
    "print(f\"Dataset Shape: {data.shape}\")\n",
    "print(\"\\nDataset Columns:\")\n",
    "print(data.columns)\n",
    "print(\"\\nFirst 5 Rows of the Dataset:\")\n",
    "print(data.head())"
   ]
  },
  {
   "cell_type": "code",
   "execution_count": null,
   "metadata": {},
   "outputs": [],
   "source": []
  }
 ],
 "metadata": {
  "kernelspec": {
   "display_name": "Python 3",
   "language": "python",
   "name": "python3"
  },
  "language_info": {
   "codemirror_mode": {
    "name": "ipython",
    "version": 3
   },
   "file_extension": ".py",
   "mimetype": "text/x-python",
   "name": "python",
   "nbconvert_exporter": "python",
   "pygments_lexer": "ipython3",
   "version": "3.11.5"
  }
 },
 "nbformat": 4,
 "nbformat_minor": 2
}
