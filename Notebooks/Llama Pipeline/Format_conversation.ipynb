{
 "cells": [
  {
   "cell_type": "markdown",
   "metadata": {},
   "source": [
    "# Import Libs"
   ]
  },
  {
   "cell_type": "code",
   "execution_count": null,
   "metadata": {},
   "outputs": [],
   "source": [
    "import pandas as pd\n",
    "import json"
   ]
  },
  {
   "cell_type": "markdown",
   "metadata": {},
   "source": [
    "# Read Dataset"
   ]
  },
  {
   "cell_type": "code",
   "execution_count": null,
   "metadata": {},
   "outputs": [],
   "source": [
    "# Define file path\n",
    "path1 = r\"C:\\Users\\Desktop\\Dosyalar\\Kodlar\\Bitirme\\Datasets\\merged_services_issue_types_products.xlsx\"\n",
    "\n",
    "# Load the dataset\n",
    "df = pd.read_excel(path1)\n"
   ]
  },
  {
   "cell_type": "markdown",
   "metadata": {},
   "source": [
    "# Functions"
   ]
  },
  {
   "cell_type": "code",
   "execution_count": 80,
   "metadata": {},
   "outputs": [],
   "source": [
    "# Function to safely parse JSON-like values\n",
    "def safe_json_load(value):\n",
    "    if isinstance(value, str) and value.strip():\n",
    "        try:\n",
    "            return json.loads(value)\n",
    "        except json.JSONDecodeError:\n",
    "            return {}\n",
    "    return value if isinstance(value, dict) else {}\n",
    "\n",
    "# Function to process the DataFrame and extract 'entities'\n",
    "def process_dataframe(df):\n",
    "    processed_data = [\n",
    "        {\n",
    "            \"entities\": {\n",
    "                \"products\": safe_json_load(row[\"product\"]).get(\"product\", []),\n",
    "                \"services\": safe_json_load(row[\"services\"]).get(\"service\", []),\n",
    "                \"issue_types\": safe_json_load(row[\"issue_types\"]).get(\"issue_type\", [])\n",
    "            }\n",
    "        }\n",
    "        for _, row in df.iterrows()\n",
    "    ]\n",
    "    return pd.DataFrame(processed_data)\n"
   ]
  },
  {
   "cell_type": "markdown",
   "metadata": {},
   "source": [
    "# Run"
   ]
  },
  {
   "cell_type": "code",
   "execution_count": null,
   "metadata": {},
   "outputs": [],
   "source": [
    "# Process the DataFrame\n",
    "processed_df = process_dataframe(df)\n",
    "\n",
    "# Drop unnecessary columns and merge with processed DataFrame\n",
    "final_df = df.drop(columns=[\"issue_types\", \"product\", \"services\"]).merge(processed_df, left_index=True, right_index=True)\n"
   ]
  },
  {
   "cell_type": "code",
   "execution_count": null,
   "metadata": {},
   "outputs": [],
   "source": []
  },
  {
   "cell_type": "code",
   "execution_count": null,
   "metadata": {},
   "outputs": [],
   "source": []
  },
  {
   "cell_type": "code",
   "execution_count": null,
   "metadata": {},
   "outputs": [],
   "source": []
  },
  {
   "cell_type": "code",
   "execution_count": null,
   "metadata": {},
   "outputs": [],
   "source": []
  }
 ],
 "metadata": {
  "kernelspec": {
   "display_name": "base",
   "language": "python",
   "name": "python3"
  },
  "language_info": {
   "codemirror_mode": {
    "name": "ipython",
    "version": 3
   },
   "file_extension": ".py",
   "mimetype": "text/x-python",
   "name": "python",
   "nbconvert_exporter": "python",
   "pygments_lexer": "ipython3",
   "version": "3.11.7"
  }
 },
 "nbformat": 4,
 "nbformat_minor": 2
}
