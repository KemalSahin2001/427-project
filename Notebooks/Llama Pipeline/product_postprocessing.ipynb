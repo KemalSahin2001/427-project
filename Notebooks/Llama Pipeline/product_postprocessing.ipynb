{
 "cells": [
  {
   "cell_type": "code",
   "execution_count": 19,
   "metadata": {},
   "outputs": [],
   "source": [
    "import pandas as pd\n",
    "import json\n",
    "import re"
   ]
  },
  {
   "cell_type": "code",
   "execution_count": 37,
   "metadata": {},
   "outputs": [],
   "source": [
    "products = pd.read_excel(\"Products_0-5000.xlsx\")"
   ]
  },
  {
   "cell_type": "code",
   "execution_count": null,
   "metadata": {},
   "outputs": [],
   "source": [
    "def clear_products(product_str):\n",
    "    json_str = \"x\"\n",
    "    try:\n",
    "        json_str = re.sub(r',\\s*([\\]}])', r'\\1', product_str)\n",
    "        json_str = json_str.replace(\"```\", \"\")\n",
    "\n",
    "        quotes = json_str.count('\"')\n",
    "        open_braces = json_str.count('{')\n",
    "        close_braces = json_str.count('}')\n",
    "        open_brackets = json_str.count('[')\n",
    "        close_brackets = json_str.count(']')\n",
    "\n",
    "        if quotes % 2 == 1:\n",
    "            json_str += '\"'\n",
    "        \n",
    "        if open_brackets > close_brackets:\n",
    "            json_str += ']' * (open_brackets - close_brackets)\n",
    "        \n",
    "        if open_braces > close_braces:\n",
    "            json_str += '}' * (open_braces - close_braces)\n",
    "        \n",
    "        \n",
    "\n",
    "        product = json.loads(json_str)\n",
    "    except:\n",
    "        print(products.iloc[i,-1])\n",
    "        "
   ]
  },
  {
   "cell_type": "code",
   "execution_count": null,
   "metadata": {},
   "outputs": [],
   "source": []
  }
 ],
 "metadata": {
  "kernelspec": {
   "display_name": "base",
   "language": "python",
   "name": "python3"
  },
  "language_info": {
   "codemirror_mode": {
    "name": "ipython",
    "version": 3
   },
   "file_extension": ".py",
   "mimetype": "text/x-python",
   "name": "python",
   "nbconvert_exporter": "python",
   "pygments_lexer": "ipython3",
   "version": "3.12.7"
  }
 },
 "nbformat": 4,
 "nbformat_minor": 2
}
