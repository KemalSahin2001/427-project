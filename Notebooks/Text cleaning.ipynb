{
 "cells": [
  {
   "cell_type": "code",
   "execution_count": 26,
   "metadata": {},
   "outputs": [],
   "source": [
    "import pandas as pd\n",
    "sample_data = pd.read_csv(\"..\\\\Data\\processed\\processed_conversations.csv\")"
   ]
  },
  {
   "cell_type": "code",
   "execution_count": 27,
   "metadata": {},
   "outputs": [
    {
     "name": "stdout",
     "output_type": "stream",
     "text": [
      "Customer: @sprintcare is the worst customer service\n",
      "Company: @115712 I would love the chance to review the account and provide assistance.\n"
     ]
    }
   ],
   "source": [
    "print(sample_data['conversations'].iloc[0])"
   ]
  },
  {
   "cell_type": "code",
   "execution_count": 28,
   "metadata": {},
   "outputs": [
    {
     "name": "stdout",
     "output_type": "stream",
     "text": [
      "Customer: @115714 @sprintcare how can I get in touch with someone that matters at Spring Corporate\n"
     ]
    }
   ],
   "source": [
    "print(sample_data['conversations'].iloc[5])"
   ]
  },
  {
   "cell_type": "code",
   "execution_count": 29,
   "metadata": {},
   "outputs": [
    {
     "name": "stdout",
     "output_type": "stream",
     "text": [
      "Customer: @Ask_Spectrum I have now spent 10 hours on the phone trying to get a dead person's account change-you are horrible\n",
      "Company: @115716 My apologies for the experience you have had.  This is something that would need to be taken care of at one of ou... https://t.co/P7XCmTzPQj\n"
     ]
    }
   ],
   "source": [
    "print(sample_data['conversations'].iloc[10])"
   ]
  },
  {
   "cell_type": "code",
   "execution_count": 30,
   "metadata": {},
   "outputs": [
    {
     "data": {
      "text/html": [
       "<div>\n",
       "<style scoped>\n",
       "    .dataframe tbody tr th:only-of-type {\n",
       "        vertical-align: middle;\n",
       "    }\n",
       "\n",
       "    .dataframe tbody tr th {\n",
       "        vertical-align: top;\n",
       "    }\n",
       "\n",
       "    .dataframe thead th {\n",
       "        text-align: right;\n",
       "    }\n",
       "</style>\n",
       "<table border=\"1\" class=\"dataframe\">\n",
       "  <thead>\n",
       "    <tr style=\"text-align: right;\">\n",
       "      <th></th>\n",
       "      <th>user_id</th>\n",
       "      <th>conversations</th>\n",
       "      <th>company_name</th>\n",
       "      <th>cleaned_conversations</th>\n",
       "    </tr>\n",
       "  </thead>\n",
       "  <tbody>\n",
       "    <tr>\n",
       "      <th>0</th>\n",
       "      <td>115712</td>\n",
       "      <td>Customer: @sprintcare is the worst customer se...</td>\n",
       "      <td>sprintcare</td>\n",
       "      <td>Customer is the worst customer service\\nCompan...</td>\n",
       "    </tr>\n",
       "    <tr>\n",
       "      <th>1</th>\n",
       "      <td>115712</td>\n",
       "      <td>Customer: @sprintcare is the worst customer se...</td>\n",
       "      <td>sprintcare</td>\n",
       "      <td>Customer is the worst customer service\\nCompan...</td>\n",
       "    </tr>\n",
       "    <tr>\n",
       "      <th>2</th>\n",
       "      <td>115712</td>\n",
       "      <td>Customer: @sprintcare is the worst customer se...</td>\n",
       "      <td>sprintcare</td>\n",
       "      <td>Customer is the worst customer service\\nCompan...</td>\n",
       "    </tr>\n",
       "    <tr>\n",
       "      <th>3</th>\n",
       "      <td>115712</td>\n",
       "      <td>Customer: @115714 @sprintcare how can I get in...</td>\n",
       "      <td>sprintcare</td>\n",
       "      <td>Customer how can I get in touch with someone t...</td>\n",
       "    </tr>\n",
       "    <tr>\n",
       "      <th>4</th>\n",
       "      <td>115712</td>\n",
       "      <td>Customer: @115714 @sprintcare how can I get in...</td>\n",
       "      <td>sprintcare</td>\n",
       "      <td>Customer how can I get in touch with someone t...</td>\n",
       "    </tr>\n",
       "  </tbody>\n",
       "</table>\n",
       "</div>"
      ],
      "text/plain": [
       "   user_id                                      conversations company_name  \\\n",
       "0   115712  Customer: @sprintcare is the worst customer se...   sprintcare   \n",
       "1   115712  Customer: @sprintcare is the worst customer se...   sprintcare   \n",
       "2   115712  Customer: @sprintcare is the worst customer se...   sprintcare   \n",
       "3   115712  Customer: @115714 @sprintcare how can I get in...   sprintcare   \n",
       "4   115712  Customer: @115714 @sprintcare how can I get in...   sprintcare   \n",
       "\n",
       "                               cleaned_conversations  \n",
       "0  Customer is the worst customer service\\nCompan...  \n",
       "1  Customer is the worst customer service\\nCompan...  \n",
       "2  Customer is the worst customer service\\nCompan...  \n",
       "3  Customer how can I get in touch with someone t...  \n",
       "4  Customer how can I get in touch with someone t...  "
      ]
     },
     "execution_count": 30,
     "metadata": {},
     "output_type": "execute_result"
    }
   ],
   "source": [
    "import re\n",
    "\n",
    "# Function to clean the text\n",
    "def clean_text(text):\n",
    "    text = re.sub(r'@\\w+', '', text)  # Remove mentions\n",
    "    text = re.sub(r'http\\S+|www\\S+', '', text)  # Remove URLs\n",
    "    text = re.sub(r'[^\\w\\s\\n]', '', text)  # Remove special characters but keep newline characters\n",
    "    text = re.sub(r'[ \\t]+', ' ', text).strip()  # Remove extra spaces but preserve newlines\n",
    "    return text\n",
    "\n",
    "# Apply the cleaning function to the conversations column\n",
    "sample_data['cleaned_conversations'] = sample_data['conversations'].apply(clean_text)\n",
    "\n",
    "sample_data.head()\n"
   ]
  },
  {
   "cell_type": "code",
   "execution_count": 31,
   "metadata": {},
   "outputs": [
    {
     "name": "stdout",
     "output_type": "stream",
     "text": [
      "Customer is the worst customer service\n",
      "Company I would love the chance to review the account and provide assistance\n"
     ]
    }
   ],
   "source": [
    "print(sample_data['cleaned_conversations'].iloc[0])"
   ]
  },
  {
   "cell_type": "code",
   "execution_count": 32,
   "metadata": {},
   "outputs": [
    {
     "name": "stdout",
     "output_type": "stream",
     "text": [
      "Customer how can I get in touch with someone that matters at Spring Corporate\n"
     ]
    }
   ],
   "source": [
    "print(sample_data['cleaned_conversations'].iloc[5])"
   ]
  },
  {
   "cell_type": "code",
   "execution_count": 33,
   "metadata": {},
   "outputs": [
    {
     "name": "stdout",
     "output_type": "stream",
     "text": [
      "Customer I have now spent 10 hours on the phone trying to get a dead persons account changeyou are horrible\n",
      "Company My apologies for the experience you have had This is something that would need to be taken care of at one of ou\n"
     ]
    }
   ],
   "source": [
    "print(sample_data['cleaned_conversations'].iloc[10])"
   ]
  },
  {
   "cell_type": "code",
   "execution_count": 34,
   "metadata": {},
   "outputs": [
    {
     "data": {
      "text/html": [
       "<div>\n",
       "<style scoped>\n",
       "    .dataframe tbody tr th:only-of-type {\n",
       "        vertical-align: middle;\n",
       "    }\n",
       "\n",
       "    .dataframe tbody tr th {\n",
       "        vertical-align: top;\n",
       "    }\n",
       "\n",
       "    .dataframe thead th {\n",
       "        text-align: right;\n",
       "    }\n",
       "</style>\n",
       "<table border=\"1\" class=\"dataframe\">\n",
       "  <thead>\n",
       "    <tr style=\"text-align: right;\">\n",
       "      <th></th>\n",
       "      <th>user_id</th>\n",
       "      <th>conversations</th>\n",
       "      <th>company_name</th>\n",
       "      <th>cleaned_conversations</th>\n",
       "      <th>corrected_conversations</th>\n",
       "    </tr>\n",
       "  </thead>\n",
       "  <tbody>\n",
       "    <tr>\n",
       "      <th>0</th>\n",
       "      <td>115712</td>\n",
       "      <td>Customer: @sprintcare is the worst customer se...</td>\n",
       "      <td>sprintcare</td>\n",
       "      <td>Customer is the worst customer service\\nCompan...</td>\n",
       "      <td>Customer is the worst customer service Company...</td>\n",
       "    </tr>\n",
       "    <tr>\n",
       "      <th>1</th>\n",
       "      <td>115712</td>\n",
       "      <td>Customer: @sprintcare is the worst customer se...</td>\n",
       "      <td>sprintcare</td>\n",
       "      <td>Customer is the worst customer service\\nCompan...</td>\n",
       "      <td>Customer is the worst customer service Company...</td>\n",
       "    </tr>\n",
       "    <tr>\n",
       "      <th>2</th>\n",
       "      <td>115712</td>\n",
       "      <td>Customer: @sprintcare is the worst customer se...</td>\n",
       "      <td>sprintcare</td>\n",
       "      <td>Customer is the worst customer service\\nCompan...</td>\n",
       "      <td>Customer is the worst customer service Company...</td>\n",
       "    </tr>\n",
       "    <tr>\n",
       "      <th>3</th>\n",
       "      <td>115712</td>\n",
       "      <td>Customer: @115714 @sprintcare how can I get in...</td>\n",
       "      <td>sprintcare</td>\n",
       "      <td>Customer how can I get in touch with someone t...</td>\n",
       "      <td>Customer how can I get in touch with someone t...</td>\n",
       "    </tr>\n",
       "    <tr>\n",
       "      <th>4</th>\n",
       "      <td>115712</td>\n",
       "      <td>Customer: @115714 @sprintcare how can I get in...</td>\n",
       "      <td>sprintcare</td>\n",
       "      <td>Customer how can I get in touch with someone t...</td>\n",
       "      <td>Customer how can I get in touch with someone t...</td>\n",
       "    </tr>\n",
       "  </tbody>\n",
       "</table>\n",
       "</div>"
      ],
      "text/plain": [
       "   user_id                                      conversations company_name  \\\n",
       "0   115712  Customer: @sprintcare is the worst customer se...   sprintcare   \n",
       "1   115712  Customer: @sprintcare is the worst customer se...   sprintcare   \n",
       "2   115712  Customer: @sprintcare is the worst customer se...   sprintcare   \n",
       "3   115712  Customer: @115714 @sprintcare how can I get in...   sprintcare   \n",
       "4   115712  Customer: @115714 @sprintcare how can I get in...   sprintcare   \n",
       "\n",
       "                               cleaned_conversations  \\\n",
       "0  Customer is the worst customer service\\nCompan...   \n",
       "1  Customer is the worst customer service\\nCompan...   \n",
       "2  Customer is the worst customer service\\nCompan...   \n",
       "3  Customer how can I get in touch with someone t...   \n",
       "4  Customer how can I get in touch with someone t...   \n",
       "\n",
       "                             corrected_conversations  \n",
       "0  Customer is the worst customer service Company...  \n",
       "1  Customer is the worst customer service Company...  \n",
       "2  Customer is the worst customer service Company...  \n",
       "3  Customer how can I get in touch with someone t...  \n",
       "4  Customer how can I get in touch with someone t...  "
      ]
     },
     "execution_count": 34,
     "metadata": {},
     "output_type": "execute_result"
    }
   ],
   "source": [
    "from spellchecker import SpellChecker\n",
    "\n",
    "# Initialize the spell checker\n",
    "spell = SpellChecker()\n",
    "\n",
    "# Function to correct misspelled words\n",
    "def correct_mistypo(text):\n",
    "    corrected_text = []\n",
    "    for word in text.split():\n",
    "        corrected_word = spell.correction(word)  # Suggest the most likely correction\n",
    "        corrected_text.append(corrected_word if corrected_word else word)\n",
    "    return ' '.join(corrected_text)\n",
    "\n",
    "# Apply the correction function to the cleaned conversations\n",
    "sample_data['corrected_conversations'] = sample_data['cleaned_conversations'].apply(correct_mistypo)\n",
    "\n",
    "sample_data.head()"
   ]
  },
  {
   "cell_type": "code",
   "execution_count": 35,
   "metadata": {},
   "outputs": [
    {
     "name": "stdout",
     "output_type": "stream",
     "text": [
      "Customer I have now spent 10 hours on the phone trying to get a dead persons account changeyou are horrible Company My apologies for the experience you have had This is something that would need to be taken care of at one of you\n"
     ]
    }
   ],
   "source": [
    "print(sample_data['corrected_conversations'].iloc[10])"
   ]
  },
  {
   "cell_type": "code",
   "execution_count": 36,
   "metadata": {},
   "outputs": [
    {
     "name": "stdout",
     "output_type": "stream",
     "text": [
      "Customer I have now spent 10 hours on the phone trying to get a dead persons account changeyou are horrible\n",
      "Company My apologies for the experience you have had This is something that would need to be taken care of at one of ou\n"
     ]
    }
   ],
   "source": [
    "print(sample_data['cleaned_conversations'].iloc[10])"
   ]
  },
  {
   "cell_type": "code",
   "execution_count": null,
   "metadata": {},
   "outputs": [],
   "source": []
  }
 ],
 "metadata": {
  "kernelspec": {
   "display_name": "Python 3",
   "language": "python",
   "name": "python3"
  },
  "language_info": {
   "codemirror_mode": {
    "name": "ipython",
    "version": 3
   },
   "file_extension": ".py",
   "mimetype": "text/x-python",
   "name": "python",
   "nbconvert_exporter": "python",
   "pygments_lexer": "ipython3",
   "version": "3.11.5"
  }
 },
 "nbformat": 4,
 "nbformat_minor": 2
}
