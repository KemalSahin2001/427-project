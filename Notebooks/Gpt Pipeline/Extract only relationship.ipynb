{
 "cells": [
  {
   "cell_type": "code",
   "execution_count": 1,
   "metadata": {},
   "outputs": [],
   "source": [
    "## IMPORTS\n",
    "import openai\n",
    "import pandas as pd\n",
    "import numpy as np\n",
    "import json\n",
    "from prompts import PRODUCT_PROMPT, ISSUE_TYPE_PROMPT, SERVICES_PROMPT, RELATIONSHIP_PROMPT, RESOLUTION_COMPLETION_PROMPT\n",
    "import os \n",
    "from dotenv import load_dotenv\n",
    "from tqdm import tqdm\n",
    "\n",
    "load_dotenv()\n",
    "\n",
    "# Load environment variables from .env file\n",
    "OPENAI_API_KEY = os.getenv(\"OPENAI_API_KEY\")\n",
    "\n",
    "# Set OpenAI API key\n",
    "client = openai.OpenAI(api_key=OPENAI_API_KEY)"
   ]
  },
  {
   "cell_type": "code",
   "execution_count": 2,
   "metadata": {},
   "outputs": [],
   "source": [
    "data_name = \"twcs_structured_UniqueCount-4000_time-20250420-1907_extracted\""
   ]
  },
  {
   "cell_type": "code",
   "execution_count": 3,
   "metadata": {},
   "outputs": [],
   "source": [
    "data = pd.read_excel(f'..\\\\..\\\\data\\processed\\extraction_output\\\\{data_name}.xlsx')"
   ]
  },
  {
   "cell_type": "code",
   "execution_count": 4,
   "metadata": {},
   "outputs": [],
   "source": [
    "## Product Extraction\n",
    "def extract_product(text):\n",
    "\n",
    "    response = client.chat.completions.create(\n",
    "        model=\"gpt-4o\",\n",
    "        messages=[\n",
    "            {\"role\": \"system\", \"content\": PRODUCT_PROMPT},\n",
    "            {\"role\": \"user\", \"content\": text}\n",
    "        ],\n",
    "        temperature=0,\n",
    "        top_p=0.95\n",
    "    )\n",
    "\n",
    "    return response.choices[0].message.content\n",
    "\n",
    "## Issue Type Extraction\n",
    "def extract_issue_type(text):\n",
    "\n",
    "    response = client.chat.completions.create(\n",
    "        model=\"gpt-4o-mini\",\n",
    "        messages=[\n",
    "            {\"role\": \"system\", \"content\": ISSUE_TYPE_PROMPT},\n",
    "            {\"role\": \"user\", \"content\": text}\n",
    "        ],\n",
    "        temperature=0,\n",
    "        top_p=0.95\n",
    "    )\n",
    "\n",
    "    return response.choices[0].message.content\n",
    "\n",
    "## Services Extraction\n",
    "def extract_services(text):\n",
    "\n",
    "    response = client.chat.completions.create(\n",
    "        model=\"gpt-4o-mini\",\n",
    "        messages=[\n",
    "            {\"role\": \"system\", \"content\": SERVICES_PROMPT},\n",
    "            {\"role\": \"user\", \"content\": text}\n",
    "        ],\n",
    "        temperature=0,\n",
    "        top_p=0.95\n",
    "    )\n",
    "\n",
    "    return response.choices[0].message.content\n",
    "\n",
    "## Relationship Extraction\n",
    "def extract_relationship(conversation_text, entities):\n",
    "    \n",
    "    response = client.chat.completions.create(\n",
    "        model=\"gpt-4o-mini\",\n",
    "        messages=[\n",
    "            {\"role\": \"system\", \"content\": RELATIONSHIP_PROMPT},\n",
    "            {\"role\": \"user\", \"content\": f\"\"\"\n",
    "                Here is the conversation text: \\n'{conversation_text}'.\n",
    "                Extracted entities: \\n{entities}.\n",
    "                Identify relationships between these elements and provide RDF triples.\n",
    "                \"\"\"}\n",
    "        ],\n",
    "        temperature=0,\n",
    "        top_p=0.95\n",
    "    )\n",
    "\n",
    "    return response.choices[0].message.content\n",
    "\n",
    "def resolution_completion(conversation_text, relationship_text):\n",
    "\n",
    "    response = client.chat.completions.create(\n",
    "        model=\"gpt-4o-mini\",\n",
    "        messages=[\n",
    "            {\"role\": \"system\", \"content\": RESOLUTION_COMPLETION_PROMPT},\n",
    "            {\"role\": \"user\", \"content\": f\"\"\"\n",
    "                Here is the conversation text: \\n'{conversation_text}'.\n",
    "                Triples:: \\n{relationship_text}.\n",
    "                \"\"\"}\n",
    "        ],\n",
    "        temperature=0,\n",
    "        top_p=0.95\n",
    "    )\n",
    "\n",
    "    return response.choices[0].message.content"
   ]
  },
  {
   "cell_type": "code",
   "execution_count": 5,
   "metadata": {},
   "outputs": [],
   "source": [
    "def safe_json_load(value):\n",
    "    if pd.isna(value):  # catches NaN, None, etc.\n",
    "        return {}\n",
    "    if isinstance(value, str) and value.strip():\n",
    "        try:\n",
    "            return json.loads(value)\n",
    "        except json.JSONDecodeError:\n",
    "            return {}\n",
    "    elif isinstance(value, dict):\n",
    "        return value\n",
    "    return {}\n",
    "\n",
    "def process_dataframe(df):\n",
    "    processed_data = []\n",
    "\n",
    "    for _, row in df.iterrows():\n",
    "        product_data = safe_json_load(row.get(\"Product\", \"\"))\n",
    "        service_data = safe_json_load(row.get(\"Services\", \"\"))\n",
    "        issue_data = safe_json_load(row.get(\"Issue Type\", \"\"))\n",
    "\n",
    "        entities = {\n",
    "            \"products\": product_data.get(\"product\", []) or [],\n",
    "            \"services\": service_data.get(\"service\", []) or [],\n",
    "            \"issue_types\": issue_data.get(\"issue_type\", []) or []\n",
    "        }\n",
    "\n",
    "        # ✨ Replace any np.nan with None (JSON safe)\n",
    "        entities_clean = json.loads(json.dumps(entities, allow_nan=False))\n",
    "\n",
    "        processed_data.append({\n",
    "            \"entities\": json.dumps(entities_clean)\n",
    "        })\n",
    "\n",
    "    return pd.DataFrame(processed_data)\n"
   ]
  },
  {
   "cell_type": "code",
   "execution_count": 6,
   "metadata": {},
   "outputs": [
    {
     "name": "stderr",
     "output_type": "stream",
     "text": [
      "Processing structured conversations: 100%|██████████| 5041/5041 [1:09:43<00:00,  1.21it/s]\n",
      "Processing structured conversations: 100%|██████████| 5041/5041 [7:20:26<00:00,  5.24s/it]  \n"
     ]
    }
   ],
   "source": [
    "# Apply the function to the DataFrame with progress tracking\n",
    "tqdm.pandas(desc=\"Processing structured conversations\")\n",
    "\n",
    "processed_df = data\n",
    "\n",
    "# Merge the processed DataFrame with the original DataFrame\n",
    "data = pd.concat([data, processed_df], axis=1)\n",
    "\n",
    "# Extract relationships with progress tracking\n",
    "data['relationship'] = data.progress_apply(\n",
    "    lambda row: extract_relationship(row['cleaned_conversations'], row['entities']), axis=1\n",
    ")\n",
    "\n",
    "# Extract resolution completion with progress tracking\n",
    "data['resolution'] = data.progress_apply(\n",
    "    lambda row: resolution_completion(row['cleaned_conversations'], row['relationship']), axis=1\n",
    ")"
   ]
  },
  {
   "cell_type": "code",
   "execution_count": 8,
   "metadata": {},
   "outputs": [],
   "source": [
    "data.to_excel(f'..\\\\..\\\\data\\processed\\extraction_output\\\\{data_name}_extracted.xlsx', index=False)"
   ]
  },
  {
   "cell_type": "code",
   "execution_count": null,
   "metadata": {},
   "outputs": [],
   "source": []
  }
 ],
 "metadata": {
  "kernelspec": {
   "display_name": "Python 3",
   "language": "python",
   "name": "python3"
  },
  "language_info": {
   "codemirror_mode": {
    "name": "ipython",
    "version": 3
   },
   "file_extension": ".py",
   "mimetype": "text/x-python",
   "name": "python",
   "nbconvert_exporter": "python",
   "pygments_lexer": "ipython3",
   "version": "3.11.5"
  }
 },
 "nbformat": 4,
 "nbformat_minor": 2
}
