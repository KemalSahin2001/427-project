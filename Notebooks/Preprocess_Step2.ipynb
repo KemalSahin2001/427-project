{
 "cells": [
  {
   "cell_type": "code",
   "execution_count": 9,
   "metadata": {},
   "outputs": [],
   "source": [
    "import pandas as pd\n",
    "sample_data = pd.read_excel(\"..\\\\Data\\processed\\processed_conversations_10k.xlsx\")"
   ]
  },
  {
   "cell_type": "code",
   "execution_count": 10,
   "metadata": {},
   "outputs": [],
   "source": [
    "# Step 1: find all subset conversations that are present in the parent conversation and drop them\n",
    "def find_subsets(df):\n",
    "    subset_records = []\n",
    "    grouped = df.groupby(['user_id', 'company_name'])\n",
    "    \n",
    "    for (user_id, company_name), group in grouped:\n",
    "        conversations = group['conversations'].tolist()\n",
    "        for i, convo1 in enumerate(conversations):\n",
    "            for j, convo2 in enumerate(conversations):\n",
    "                if i != j and convo1 in convo2:\n",
    "                    subset_records.append((user_id, company_name, convo1, convo2))\n",
    "    \n",
    "    return pd.DataFrame(subset_records, columns=['user_id', 'company_name', 'subset_conversation', 'parent_conversation'])\n",
    "\n",
    "# Identify subset conversations\n",
    "subset_df = find_subsets(sample_data)\n",
    "\n",
    "# Function to drop subset conversations\n",
    "def drop_subset_conversations(df):\n",
    "    subset_df = find_subsets(df)\n",
    "    subset_conversations = subset_df['subset_conversation'].unique()\n",
    "    cleaned_df = df[~df['conversations'].isin(subset_conversations)]\n",
    "    return cleaned_df\n",
    "\n",
    "# Drop subset conversations from the original dataset\n",
    "sample_data = drop_subset_conversations(sample_data)"
   ]
  },
  {
   "cell_type": "code",
   "execution_count": 11,
   "metadata": {},
   "outputs": [],
   "source": [
    "# Step 2: Correct spelling\n",
    "import re\n",
    "from spellchecker import SpellChecker\n",
    "\n",
    "# Function to clean the text\n",
    "def clean_text(text):\n",
    "    text = re.sub(r'@\\w+', '', text)  # Remove mentions\n",
    "    text = re.sub(r'http\\S+|www\\S+', '', text)  # Remove URLs\n",
    "    text = re.sub(r'[^\\w\\s\\n]', '', text)  # Remove special characters but keep newline characters\n",
    "    text = re.sub(r'[ \\t]+', ' ', text).strip()  # Remove extra spaces but preserve newlines\n",
    "    return text\n",
    "\n",
    "# Apply the cleaning function to the conversations column\n",
    "sample_data['cleaned_conversations'] = sample_data['conversations'].apply(clean_text)\n",
    "# Save the cleaned data\n",
    "sample_data.to_excel(\"..\\\\Data\\processed\\cleaned_conversations_10k_cleaned.xlsx\", index=False)"
   ]
  },
  {
   "cell_type": "code",
   "execution_count": null,
   "metadata": {},
   "outputs": [],
   "source": [
    "# Initialize the spell checker\n",
    "spell = SpellChecker()\n",
    "\n",
    "# Function to correct misspelled words\n",
    "def correct_mistypo(text):\n",
    "    corrected_text = []\n",
    "    for word in text.split():\n",
    "        corrected_word = spell.correction(word)  # Suggest the most likely correction\n",
    "        corrected_text.append(corrected_word if corrected_word else word)\n",
    "    return ' '.join(corrected_text)\n",
    "\n",
    "# Apply the correction function to the cleaned conversations\n",
    "sample_data['corrected_conversations'] = sample_data['cleaned_conversations'].apply(correct_mistypo)\n",
    "\n",
    "# Save the cleaned data\n",
    "sample_data.to_excel(\"..\\\\Data\\processed\\cleaned_conversations_10k_cleaned.xlsx\", index=False)"
   ]
  },
  {
   "cell_type": "code",
   "execution_count": null,
   "metadata": {},
   "outputs": [],
   "source": []
  }
 ],
 "metadata": {
  "kernelspec": {
   "display_name": "Python 3",
   "language": "python",
   "name": "python3"
  },
  "language_info": {
   "codemirror_mode": {
    "name": "ipython",
    "version": 3
   },
   "file_extension": ".py",
   "mimetype": "text/x-python",
   "name": "python",
   "nbconvert_exporter": "python",
   "pygments_lexer": "ipython3",
   "version": "3.11.5"
  }
 },
 "nbformat": 4,
 "nbformat_minor": 2
}
