{
 "cells": [
  {
   "cell_type": "code",
   "execution_count": 44,
   "metadata": {},
   "outputs": [],
   "source": [
    "import pandas as pd\n",
    "import torch\n",
    "from transformers import pipeline\n",
    "import time\n",
    "import ast"
   ]
  },
  {
   "cell_type": "code",
   "execution_count": 34,
   "metadata": {},
   "outputs": [
    {
     "data": {
      "text/html": [
       "<div>\n",
       "<style scoped>\n",
       "    .dataframe tbody tr th:only-of-type {\n",
       "        vertical-align: middle;\n",
       "    }\n",
       "\n",
       "    .dataframe tbody tr th {\n",
       "        vertical-align: top;\n",
       "    }\n",
       "\n",
       "    .dataframe thead th {\n",
       "        text-align: right;\n",
       "    }\n",
       "</style>\n",
       "<table border=\"1\" class=\"dataframe\">\n",
       "  <thead>\n",
       "    <tr style=\"text-align: right;\">\n",
       "      <th></th>\n",
       "      <th>user_id</th>\n",
       "      <th>conversations</th>\n",
       "      <th>company_name</th>\n",
       "      <th>cleaned_conversations</th>\n",
       "      <th>structured_conversations</th>\n",
       "    </tr>\n",
       "  </thead>\n",
       "  <tbody>\n",
       "    <tr>\n",
       "      <th>0</th>\n",
       "      <td>115712</td>\n",
       "      <td>Customer: @sprintcare is the worst customer se...</td>\n",
       "      <td>sprintcare</td>\n",
       "      <td>Customer is the worst customer service\\nCompan...</td>\n",
       "      <td>[{'Company_name': 'sprintcare'}, {'conversatio...</td>\n",
       "    </tr>\n",
       "    <tr>\n",
       "      <th>1</th>\n",
       "      <td>115712</td>\n",
       "      <td>Customer: @sprintcare is the worst customer se...</td>\n",
       "      <td>sprintcare</td>\n",
       "      <td>Customer is the worst customer service\\nCompan...</td>\n",
       "      <td>[{'Company_name': 'sprintcare'}, {'conversatio...</td>\n",
       "    </tr>\n",
       "    <tr>\n",
       "      <th>2</th>\n",
       "      <td>115712</td>\n",
       "      <td>Customer: @sprintcare is the worst customer se...</td>\n",
       "      <td>sprintcare</td>\n",
       "      <td>Customer is the worst customer service\\nCompan...</td>\n",
       "      <td>[{'Company_name': 'sprintcare'}, {'conversatio...</td>\n",
       "    </tr>\n",
       "    <tr>\n",
       "      <th>3</th>\n",
       "      <td>115712</td>\n",
       "      <td>Customer: @115714 @sprintcare how can I get in...</td>\n",
       "      <td>sprintcare</td>\n",
       "      <td>Customer how can I get in touch with someone t...</td>\n",
       "      <td>[{'Company_name': 'sprintcare'}, {'conversatio...</td>\n",
       "    </tr>\n",
       "    <tr>\n",
       "      <th>4</th>\n",
       "      <td>115712</td>\n",
       "      <td>Customer: @115714 @sprintcare how can I get in...</td>\n",
       "      <td>sprintcare</td>\n",
       "      <td>Customer how can I get in touch with someone t...</td>\n",
       "      <td>[{'Company_name': 'sprintcare'}, {'conversatio...</td>\n",
       "    </tr>\n",
       "  </tbody>\n",
       "</table>\n",
       "</div>"
      ],
      "text/plain": [
       "   user_id                                      conversations company_name  \\\n",
       "0   115712  Customer: @sprintcare is the worst customer se...   sprintcare   \n",
       "1   115712  Customer: @sprintcare is the worst customer se...   sprintcare   \n",
       "2   115712  Customer: @sprintcare is the worst customer se...   sprintcare   \n",
       "3   115712  Customer: @115714 @sprintcare how can I get in...   sprintcare   \n",
       "4   115712  Customer: @115714 @sprintcare how can I get in...   sprintcare   \n",
       "\n",
       "                               cleaned_conversations  \\\n",
       "0  Customer is the worst customer service\\nCompan...   \n",
       "1  Customer is the worst customer service\\nCompan...   \n",
       "2  Customer is the worst customer service\\nCompan...   \n",
       "3  Customer how can I get in touch with someone t...   \n",
       "4  Customer how can I get in touch with someone t...   \n",
       "\n",
       "                            structured_conversations  \n",
       "0  [{'Company_name': 'sprintcare'}, {'conversatio...  \n",
       "1  [{'Company_name': 'sprintcare'}, {'conversatio...  \n",
       "2  [{'Company_name': 'sprintcare'}, {'conversatio...  \n",
       "3  [{'Company_name': 'sprintcare'}, {'conversatio...  \n",
       "4  [{'Company_name': 'sprintcare'}, {'conversatio...  "
      ]
     },
     "execution_count": 34,
     "metadata": {},
     "output_type": "execute_result"
    }
   ],
   "source": [
    "# Load the data from the Excel file\n",
    "file_path = \"..\\\\..\\\\Data\\processed\\sample\\\\twcs_structured_UniqueCount-10_time-20241222-1549.xlsx\"\n",
    "sample_data = pd.read_excel(file_path)\n",
    "\n",
    "# Display the first few rows of the data to understand its structure\n",
    "sample_data.head()"
   ]
  },
  {
   "cell_type": "code",
   "execution_count": 35,
   "metadata": {},
   "outputs": [
    {
     "data": {
      "application/vnd.jupyter.widget-view+json": {
       "model_id": "3ee23fd5631247c3a9bdc378d55055a5",
       "version_major": 2,
       "version_minor": 0
      },
      "text/plain": [
       "Loading checkpoint shards:   0%|          | 0/2 [00:00<?, ?it/s]"
      ]
     },
     "metadata": {},
     "output_type": "display_data"
    }
   ],
   "source": [
    "# Load the Llama pipeline\n",
    "model_id = \"meta-llama/Llama-3.2-3B-Instruct\"\n",
    "pipe = pipeline(\n",
    "    \"text-generation\",\n",
    "    model=model_id,\n",
    "    torch_dtype=torch.bfloat16,\n",
    "    device_map=\"auto\",\n",
    ")"
   ]
  },
  {
   "cell_type": "code",
   "execution_count": 36,
   "metadata": {},
   "outputs": [],
   "source": [
    "system_prompt = \"\"\"You are a conversational assistant designed to analyze customer support conversations. Your task is to:\n",
    "1. Extract services from the conversation.\n",
    "2. Provide the output in the specified format.\n",
    "3. Services is Name or type of service discussed.\n",
    "---\n",
    "\n",
    "### **Input Structure**\n",
    "The input is a JSON object with the following format:\n",
    "[\n",
    "  { \"Company_name\": \"company_name_here\" },\n",
    "  { \"conversation\": [\n",
    "      { \"role\": \"Customer\", \"message\": \"text_here\" },\n",
    "      { \"role\": \"Company\", \"message\": \"text_here\" }\n",
    "    ]\n",
    "  }\n",
    "]\n",
    "\n",
    "- **Company_name**: The name of the company involved in the conversation.\n",
    "- **Conversation**: A list of messages exchanged, where:\n",
    "  - **role**: Indicates who is speaking (`Customer` or `Company`).\n",
    "  - **message**: The content of the message.\n",
    "\n",
    "---\n",
    "\n",
    "### **Output Structure**\n",
    "The output MUST be a JSON object with the following format:\n",
    "{\n",
    "  \"Company_name\": \"company_name_here\",\n",
    "  \"service\": [\n",
    "    \"service_name_here\", \n",
    "  ]\n",
    "}\n",
    "\n",
    "### END OF FORMAT\n",
    "---\n",
    "\n",
    "### **What You MUST Do**\n",
    "1. Use exact JSON format—no extra text.\n",
    "2. If no service is mentioned, use \"service\": null.\n",
    "3. List all services if multiple are mentioned.\n",
    "---\n",
    "\n",
    "### **What You MUST NOT Do**\n",
    "1. Do not omit any part of the input conversation from the output.\n",
    "---\n",
    "\n",
    "\"\"\""
   ]
  },
  {
   "cell_type": "code",
   "execution_count": 45,
   "metadata": {},
   "outputs": [],
   "source": [
    "# Define a function for entity extraction\n",
    "def extract_entities(conversation_text):\n",
    "    \"\"\"\n",
    "    Extract services from structured conversation text.\n",
    "    \"\"\"\n",
    "    messages = [\n",
    "        {\"role\": \"system\", \"content\": system_prompt},\n",
    "        {\"role\": \"user\", \"content\": f\"Identify all services in this conversation: '{conversation_text}'\"},\n",
    "    ]\n",
    "    output = pipe(messages, max_new_tokens=256)\n",
    "\n",
    "\n",
    "    # Convert string to Python data structure\n",
    "    data = ast.literal_eval(conversation_text)  # Safely converts the string into a list\n",
    "\n",
    "    # Extract company name\n",
    "    company_name = data[0]['Company_name']\n",
    "\n",
    "    # Print company name\n",
    "    print(f\"Company: {company_name}\\n\")\n",
    "\n",
    "    # Print conversation in a readable format\n",
    "    print(\"Conversation:\")\n",
    "    for entry in data[1]['conversation']:\n",
    "        role = entry['role']\n",
    "        message = entry['message']\n",
    "        print(f\"{role}: {message}\")\n",
    "    print(\"*\" * 50)\n",
    "    print(output[0][\"generated_text\"][-1].get(\"content\", \"\"))\n",
    "    print(\"-\" * 50)\n",
    "\n",
    "    # Extract and return the generated content\n",
    "    return output[0][\"generated_text\"][-1].get(\"content\", \"\") if output else \"\""
   ]
  },
  {
   "cell_type": "code",
   "execution_count": 46,
   "metadata": {},
   "outputs": [],
   "source": [
    "# Add intents to the dataset\n",
    "def add_intents_to_data(data, text_column=\"structured_conversations\", intent_column=\"intents\", subset=None):\n",
    "    \"\"\"\n",
    "    Add a new column with extracted intents to the dataset.\n",
    "    Optionally process only a subset of the data.\n",
    "    \"\"\"\n",
    "    # If subset is provided, slice the data\n",
    "    if subset:\n",
    "        data = data.iloc[subset[0]:subset[1]]\n",
    "    \n",
    "    # Extract intents for each conversation\n",
    "    data[intent_column] = data[text_column].apply(lambda text: extract_entities(text))\n",
    "    \n",
    "    return data"
   ]
  },
  {
   "cell_type": "code",
   "execution_count": 47,
   "metadata": {},
   "outputs": [
    {
     "name": "stderr",
     "output_type": "stream",
     "text": [
      "Setting `pad_token_id` to `eos_token_id`:None for open-end generation.\n",
      "Setting `pad_token_id` to `eos_token_id`:None for open-end generation.\n"
     ]
    },
    {
     "name": "stdout",
     "output_type": "stream",
     "text": [
      "Company: sprintcare\n",
      "\n",
      "Conversation:\n",
      "Customer: is the worst customer service\n",
      "Company: I would love the chance to review the account and provide assistance\n",
      "**************************************************\n",
      "{\n",
      "  \"Company_name\": \"sprintcare\",\n",
      "  \"service\": [\n",
      "    \"Customer Service\"\n",
      "  ]\n",
      "}\n",
      "--------------------------------------------------\n"
     ]
    },
    {
     "name": "stderr",
     "output_type": "stream",
     "text": [
      "Setting `pad_token_id` to `eos_token_id`:None for open-end generation.\n"
     ]
    },
    {
     "name": "stdout",
     "output_type": "stream",
     "text": [
      "Company: sprintcare\n",
      "\n",
      "Conversation:\n",
      "Customer: is the worst customer service\n",
      "Company: Can you please send us a private message so that I can gain further details about your account\n",
      "Customer: I did\n",
      "Company: Please send us a Private Message so that we can further assist you Just click Message at the top of your profile\n",
      "Customer: I have sent several private messages and no one is responding as usual\n",
      "Company: I understand I would like to assist you We would need to get you into a private secured link to further assistCustomer and how do you propose we do thatCustomer the only way I can get a response is to tweet apparently\n",
      "**************************************************\n",
      "{\n",
      "  \"Company_name\": \"sprintcare\",\n",
      "  \"service\": [\n",
      "    \"Customer Service\"\n",
      "  ]\n",
      "}\n",
      "--------------------------------------------------\n"
     ]
    },
    {
     "name": "stderr",
     "output_type": "stream",
     "text": [
      "Setting `pad_token_id` to `eos_token_id`:None for open-end generation.\n"
     ]
    },
    {
     "name": "stdout",
     "output_type": "stream",
     "text": [
      "Company: sprintcare\n",
      "\n",
      "Conversation:\n",
      "Customer: is the worst customer service\n",
      "Company: Hello We never like our customers to feel like they are not valued\n",
      "**************************************************\n",
      "{\n",
      "  \"Company_name\": \"sprintcare\",\n",
      "  \"service\": [\n",
      "    \"Customer Service\"\n",
      "  ]\n",
      "}\n",
      "--------------------------------------------------\n"
     ]
    },
    {
     "name": "stderr",
     "output_type": "stream",
     "text": [
      "Setting `pad_token_id` to `eos_token_id`:None for open-end generation.\n"
     ]
    },
    {
     "name": "stdout",
     "output_type": "stream",
     "text": [
      "Company: sprintcare\n",
      "\n",
      "Conversation:\n",
      "Customer: how can I get in touch with someone that matters at Spring Corporate\n",
      "Company: Just click Message at the top of your profile Were always here and eager to assist\n",
      "Customer: Ive sent several private messages and no one responds\n",
      "Company: Do you have a good contact number where you can be reachedCustomer I sent it twice now to apparently noone\n",
      "**************************************************\n",
      "{\n",
      "  \"Company_name\": \"sprintcare\",\n",
      "  \"service\": [\n",
      "    \"customer support\",\n",
      "    \"message service\",\n",
      "    \"contact number\"\n",
      "  ]\n",
      "}\n",
      "--------------------------------------------------\n",
      "Company: sprintcare\n",
      "\n",
      "Conversation:\n",
      "Customer: how can I get in touch with someone that matters at Spring Corporate\n",
      "Company: Do you have a good contact number where you can be reached Please send through the private link\n",
      "**************************************************\n",
      "{\n",
      "  \"Company_name\": \"sprintcare\",\n",
      "  \"service\": [\n",
      "    \"customer service\",\n",
      "    \"corporate support\"\n",
      "  ]\n",
      "}\n",
      "--------------------------------------------------\n"
     ]
    },
    {
     "name": "stderr",
     "output_type": "stream",
     "text": [
      "C:\\Users\\paris\\AppData\\Local\\Temp\\ipykernel_30656\\1506374493.py:12: SettingWithCopyWarning: \n",
      "A value is trying to be set on a copy of a slice from a DataFrame.\n",
      "Try using .loc[row_indexer,col_indexer] = value instead\n",
      "\n",
      "See the caveats in the documentation: https://pandas.pydata.org/pandas-docs/stable/user_guide/indexing.html#returning-a-view-versus-a-copy\n",
      "  data[intent_column] = data[text_column].apply(lambda text: extract_entities(text))\n"
     ]
    }
   ],
   "source": [
    "# Define subset range (Optional)\n",
    "subset_range = [0,5]  # Example: Only process rows 1441 to 1442\n",
    "\n",
    "# Add intents to the dataset\n",
    "updated_data = add_intents_to_data(sample_data, subset=subset_range) if subset_range else add_intents_to_data(sample_data)\n",
    "\n",
    "# # Save the updated dataset to an Excel file\n",
    "# unique_user_count = len(sample_data[\"user_id\"].unique())\n",
    "# output_file_path = f'..\\\\..\\\\Data\\\\processed\\\\Intents\\\\ExtractedIntents_UniqueCount-{unique_user_count}_time-{time.strftime(\"%Y%m%d-%H%M\")}.xlsx'\n",
    "# updated_data.to_excel(output_file_path, index=False)\n",
    "\n",
    "# print(f\"Updated dataset with intents saved to {output_file_path}\")"
   ]
  },
  {
   "cell_type": "code",
   "execution_count": null,
   "metadata": {},
   "outputs": [],
   "source": []
  },
  {
   "cell_type": "code",
   "execution_count": null,
   "metadata": {},
   "outputs": [],
   "source": []
  }
 ],
 "metadata": {
  "kernelspec": {
   "display_name": "Python 3",
   "language": "python",
   "name": "python3"
  },
  "language_info": {
   "codemirror_mode": {
    "name": "ipython",
    "version": 3
   },
   "file_extension": ".py",
   "mimetype": "text/x-python",
   "name": "python",
   "nbconvert_exporter": "python",
   "pygments_lexer": "ipython3",
   "version": "3.11.5"
  }
 },
 "nbformat": 4,
 "nbformat_minor": 2
}
